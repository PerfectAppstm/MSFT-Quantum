{
  "cells": [
    {
      "cell_type": "markdown",
      "source": [
        "# Resource Estimation of Random Circuit Used in State Vector Simulation\n",
        "\n",
        "This notebook gives the resource estimation of random quantum circuits used for the full state vector simulation in\n",
        "[Simulating 44-Qubit quantum circuits using AWS ParallelCluster](https://aws.amazon.com/blogs/hpc/simulating-44-qubit-quantum-circuits-using-aws-parallelcluster/).\n",
        "\n",
        "## Getting started\n",
        "\n",
        "We connect to the Azure Quantum workspace and get the Resource Estimator as the backend to use in that workspace.  Make sure that you have the _Microsoft Quantum Computing_ provider added to the workspace."
      ],
      "metadata": {}
    },
    {
      "cell_type": "code",
      "source": [
        "import qsharp.azure\n",
        "targets = qsharp.azure.connect(\n",
        "            resourceId = \"\",\n",
        "            location = \"\")\n",
        "qsharp.azure.target(\"microsoft.estimator\")\n"
      ],
      "outputs": [],
      "execution_count": null,
      "metadata": {}
    },
    {
      "cell_type": "markdown",
      "source": [
        "## Generating a random circuit\n",
        "\n",
        "Let's now create a random Q# program. Note that the generated circuit will be different on each run."
      ],
      "metadata": {}
    },
    {
      "cell_type": "code",
      "source": [
        "%%qsharp\n",
        "open Microsoft.Quantum.Math;\n",
        "open Microsoft.Quantum.Random;\n",
        "\n",
        "operation RunRandomCircuit(nQubits : Int, nGates : Int) : Unit {\n",
        "    use qs = Qubit[nQubits];\n",
        "\n",
        "    for _ in 1 .. nGates {\n",
        "        let rnd = DrawRandomDouble(0., 1.);\n",
        "        if rnd < 0.5 {\n",
        "            // CZ\n",
        "            let controlInd = DrawRandomInt(0, nQubits - 1);\n",
        "            // Make sure target qubit index is distinct from control qubit index\n",
        "            mutable targetInd = DrawRandomInt(0, nQubits - 2);\n",
        "            if targetInd >= controlInd {\n",
        "                set targetInd += 1;\n",
        "            }\n",
        "            CZ(qs[controlInd], qs[targetInd]);\n",
        "        } elif rnd < 0.625 {\n",
        "            // H\n",
        "            let ind = DrawRandomInt(0, nQubits - 1);\n",
        "            H(qs[ind]);\n",
        "        } else {\n",
        "            // R\n",
        "            let ind = DrawRandomInt(0, nQubits - 1);\n",
        "            let gate = [Rx, Ry, Rz][DrawRandomInt(0, 2)];\n",
        "            let angle = DrawRandomDouble(0., PI());\n",
        "            gate(angle, qs[ind]);\n",
        "        }\n",
        "    }\n",
        "}"
      ],
      "outputs": [],
      "execution_count": null,
      "metadata": {
        "microsoft": {
          "language": "qsharp"
        }
      }
    },
    {
      "cell_type": "markdown",
      "source": [
        "## Running Azure Quantum Resource Estimator\n",
        "\n",
        "Now we can estimate the resources required for the generated Q# program."
      ],
      "metadata": {}
    },
    {
      "cell_type": "code",
      "source": [
        "n_qubits = 43\n",
        "n_gates = 1000\n",
        "result = qsharp.azure.execute(RunRandomCircuit, nQubits=n_qubits, nGates=n_gates, jobName=f\"Random circuit n_qubits={n_qubits} n_gates={n_gates}\")\n",
        "result"
      ],
      "outputs": [],
      "execution_count": null,
      "metadata": {}
    },
    {
      "cell_type": "code",
      "source": [
        "logical_qubits = result['physicalCounts']['breakdown']['algorithmicLogicalQubits']\n",
        "logical_depth = result['physicalCounts']['breakdown']['algorithmicLogicalDepth']\n",
        "# We take the runtime of the circuit from the blog post https://aws.amazon.com/blogs/hpc/simulating-44-qubit-quantum-circuits-using-aws-parallelcluster/, figure 4.\n",
        "target_runtime = 5800\n",
        "target_rqops = logical_qubits * logical_depth / target_runtime\n",
        "\n",
        "print(f\"Logical qubits = {logical_qubits}\")\n",
        "print(f\"Logical depth = {logical_depth}\")\n",
        "print(f\"Target runtime = {target_runtime} seconds\")\n",
        "print(f\"Target rQOPS = {target_rqops}\")\n",
        "\n",
        "print(f\"Execution time on hardware  = {result['physicalCounts']['runtime'] * 1e-9} seconds\")\n",
        "print(f\"rQOPS for execution on hardware = {result['physicalCounts']['rqops']}\")"
      ],
      "outputs": [],
      "execution_count": null,
      "metadata": {
        "jupyter": {
          "source_hidden": false,
          "outputs_hidden": false
        },
        "nteract": {
          "transient": {
            "deleting": false
          }
        }
      }
    }
  ],
  "metadata": {
    "language_info": {
      "name": "python",
      "version": "3.9.18",
      "mimetype": "text/x-python",
      "codemirror_mode": {
        "name": "ipython",
        "version": 3
      },
      "pygments_lexer": "ipython3",
      "nbconvert_exporter": "python",
      "file_extension": ".py"
    },
    "microsoft": {
      "host": {
        "AzureQuantum": {
          "sourceType": "SampleGallery",
          "sourceLink": "https://raw.githubusercontent.com/microsoft/Quantum/08427e3085d1cb64558bc00ab441acc53f78cd34/samples/azure-quantum/resource-estimation/estimation-qsharp.ipynb"
        }
      }
    },
    "kernelspec": {
      "name": "python3",
      "language": "python",
      "display_name": "Python 3 (ipykernel)"
    },
    "kernel_info": {
      "name": "python3"
    },
    "nteract": {
      "version": "nteract-front-end@1.0.0"
    }
  },
  "nbformat": 4,
  "nbformat_minor": 1
}